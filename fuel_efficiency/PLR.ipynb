{
 "cells": [
  {
   "cell_type": "code",
   "execution_count": null,
   "id": "3a9f4de5-9206-4db4-a9ce-54c125dae47d",
   "metadata": {},
   "outputs": [],
   "source": [
    "import numpy as np\n",
    "import pandas as pd\n",
    "import matplotlib.pyplot as plt"
   ]
  },
  {
   "cell_type": "code",
   "execution_count": null,
   "id": "3eb80c52-91d5-4264-9f2d-e224eae78367",
   "metadata": {},
   "outputs": [],
   "source": [
    "data = pd.read_csv(\"fuelData.csv\")\n",
    "X = data.iloc[:,1:3].values\n",
    "y = data.iloc[:,3].values"
   ]
  },
  {
   "cell_type": "code",
   "execution_count": null,
   "id": "9c434d8f-cea8-4045-a401-799194261c08",
   "metadata": {},
   "outputs": [],
   "source": [
    "from sklearn.linear_model import LinearRegression\n",
    "from sklearn.preprocessing import PolynomialFeatures"
   ]
  },
  {
   "cell_type": "code",
   "execution_count": null,
   "id": "fa6c4fa8-d124-45b9-9a4c-7b226a58bc86",
   "metadata": {},
   "outputs": [],
   "source": [
    "poly_reg = PolynomialFeatures(degree = 2)\n",
    "X_poly = poly_reg.fit_transform(X)\n",
    "lin_reg2 = LinearRegression()\n",
    "lin_reg2.fit(X_poly,y)"
   ]
  },
  {
   "cell_type": "code",
   "execution_count": null,
   "id": "dc52e073-074a-4f5a-a833-d07ea075b7f4",
   "metadata": {},
   "outputs": [],
   "source": [
    "new_data = poly_reg.fit_transform([[1500,70]])\n",
    "predictedFuelEff =  lin_reg2.predict(new_data)\n",
    "print(\"Predicted Fuel Efficiecny (km/l) -> \",predictedFuelEff)"
   ]
  },
  {
   "cell_type": "code",
   "execution_count": null,
   "id": "d6a57a4d-bb75-49d1-a7af-2be9238ee52c",
   "metadata": {},
   "outputs": [],
   "source": [
    "plt.scatter(X[:,0],y,color='green')\n",
    "plt.plot(X[:,0],lin_reg2.predict(X_poly),color='red')\n",
    "plt.title('Fuel Efficiency Prediction')\n",
    "plt.xlabel('Energy displacement(cc) & Horsepower(kW)')\n",
    "plt.ylabel('Fuel Efficiency(km/l)')\n",
    "plt.show()"
   ]
  },
  {
   "cell_type": "code",
   "execution_count": null,
   "id": "49da3ddd-f463-4c8d-ad95-7d2b7127c805",
   "metadata": {},
   "outputs": [],
   "source": [
    "new_data_point = poly_reg.fit_transform([[1500, 70]])\n",
    "predicted_fuel_efficiency = lin_reg2.predict(new_data_point)\n",
    "print(\"Predicted Fuel Efficiency (km/l):\", predicted_fuel_efficiency)"
   ]
  }
 ],
 "metadata": {
  "kernelspec": {
   "display_name": "Python 3 (ipykernel)",
   "language": "python",
   "name": "python3"
  },
  "language_info": {
   "codemirror_mode": {
    "name": "ipython",
    "version": 3
   },
   "file_extension": ".py",
   "mimetype": "text/x-python",
   "name": "python",
   "nbconvert_exporter": "python",
   "pygments_lexer": "ipython3",
   "version": "3.10.12"
  }
 },
 "nbformat": 4,
 "nbformat_minor": 5
}
